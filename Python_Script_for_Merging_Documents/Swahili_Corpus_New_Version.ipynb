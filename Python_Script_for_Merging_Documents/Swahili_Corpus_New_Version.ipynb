{
  "nbformat": 4,
  "nbformat_minor": 0,
  "metadata": {
    "colab": {
      "provenance": []
    },
    "kernelspec": {
      "name": "python3",
      "display_name": "Python 3"
    },
    "language_info": {
      "name": "python"
    }
  },
  "cells": [
    {
      "cell_type": "markdown",
      "source": [
        "# WELCOME TO SWAHILI CORPUS PYTHON SCRIPTS"
      ],
      "metadata": {
        "id": "4TkXc_Xbs72e"
      }
    },
    {
      "cell_type": "markdown",
      "source": [
        "### Here are the Steps that are Involved in Creating the Swahili Corpus.\n",
        "\n",
        "\n",
        "1.   Identification of Categories\n",
        "  \n",
        "\n",
        "*   I have identified almost 15 Swahili categories which are:-\n",
        "\n",
        "\n",
        "> Afya, Bunge, Dini, Habari_Mawasiliano, Elimu, Mazingira_Muungano, Sanaa_Michezo, Katiba_Sheria, Kilimo, Maendeleo_ya_Jamii, Maliasili_Utalii, Serikali, Siasa, Uchumi, Ulinzi.\n",
        "\n",
        "\n",
        "2.   Data Collection from official sources\n",
        "\n",
        "\n",
        "> For each category, I have collected the documents which are in Swahili Language, and each category has atleast 100 documents in Swahili language.\n",
        "\n",
        "\n",
        "\n",
        "3.   Download PDF and Docx Documents\n",
        "\n",
        "\n",
        "> So, the documents have been downloaded and they are in each respective category.\n",
        "\n",
        "\n",
        "\n",
        "4.   Python Script for Merging Documents\n",
        "\n",
        "\n",
        "> The activity was done on 30th January 2024\n",
        "\n",
        "\n",
        "\n",
        "5.   Cleaning\n",
        "\n",
        "\n",
        "> The activity was done on 30th January 2024\n",
        "\n",
        "\n",
        "\n",
        "6.   Generate Output Category Statistics\n",
        "\n",
        "\n",
        "> The activity was done on 30th January 2024.\n",
        "\n",
        "\n",
        "\n",
        "\n",
        "\n",
        "\n",
        "\n",
        "\n",
        "\n",
        "\n",
        "\n",
        "\n",
        "\n",
        "\n",
        "\n",
        "\n",
        "\n",
        "\n",
        "\n",
        "\n",
        "\n"
      ],
      "metadata": {
        "id": "KgAofFiWtJgN"
      }
    },
    {
      "cell_type": "markdown",
      "source": [
        "### Mount the drive in Google Colab"
      ],
      "metadata": {
        "id": "aEqxam6CwMZK"
      }
    },
    {
      "cell_type": "code",
      "source": [
        "from google.colab import drive\n",
        "drive.mount(\"/content/drive\")"
      ],
      "metadata": {
        "id": "rvUxqdUBLEX_",
        "colab": {
          "base_uri": "https://localhost:8080/"
        },
        "outputId": "ce3ef22b-9df4-4b61-b989-5abaaab1da22"
      },
      "execution_count": null,
      "outputs": [
        {
          "output_type": "stream",
          "name": "stdout",
          "text": [
            "Mounted at /content/drive\n"
          ]
        }
      ]
    },
    {
      "cell_type": "markdown",
      "source": [
        "### Install PyPDF2 and python-docx into google colab"
      ],
      "metadata": {
        "id": "zGwWYVZPwSM8"
      }
    },
    {
      "cell_type": "code",
      "source": [
        "!pip install PyPDF2\n"
      ],
      "metadata": {
        "id": "KlF2eqQ8JyTT",
        "colab": {
          "base_uri": "https://localhost:8080/"
        },
        "outputId": "c729a888-bd81-4ae8-b3f8-3583e6b8c543"
      },
      "execution_count": null,
      "outputs": [
        {
          "output_type": "stream",
          "name": "stdout",
          "text": [
            "Requirement already satisfied: PyPDF2 in /usr/local/lib/python3.10/dist-packages (3.0.1)\n"
          ]
        }
      ]
    },
    {
      "cell_type": "code",
      "source": [
        "!pip install python-docx\n"
      ],
      "metadata": {
        "colab": {
          "base_uri": "https://localhost:8080/"
        },
        "id": "N8Bj6KISv699",
        "outputId": "19736252-6646-423b-94e6-55687d265995"
      },
      "execution_count": null,
      "outputs": [
        {
          "output_type": "stream",
          "name": "stdout",
          "text": [
            "Requirement already satisfied: python-docx in /usr/local/lib/python3.10/dist-packages (1.1.0)\n",
            "Requirement already satisfied: lxml>=3.1.0 in /usr/local/lib/python3.10/dist-packages (from python-docx) (4.9.4)\n",
            "Requirement already satisfied: typing-extensions in /usr/local/lib/python3.10/dist-packages (from python-docx) (4.5.0)\n"
          ]
        }
      ]
    },
    {
      "cell_type": "code",
      "source": [
        "!pip install pycryptodome\n"
      ],
      "metadata": {
        "colab": {
          "base_uri": "https://localhost:8080/"
        },
        "id": "hlTrrvusy5za",
        "outputId": "1c10612c-01ab-456a-a9fc-afded8dfad9b"
      },
      "execution_count": null,
      "outputs": [
        {
          "output_type": "stream",
          "name": "stdout",
          "text": [
            "Requirement already satisfied: pycryptodome in /usr/local/lib/python3.10/dist-packages (3.20.0)\n"
          ]
        }
      ]
    },
    {
      "cell_type": "markdown",
      "source": [
        "### Import Necessary Packages in Google Colab"
      ],
      "metadata": {
        "id": "eEzEICExwbYB"
      }
    },
    {
      "cell_type": "code",
      "source": [
        "import os\n",
        "from PyPDF2 import PdfWriter, PdfReader\n",
        "from docx import Document"
      ],
      "metadata": {
        "id": "gCq6qgKfwhgv"
      },
      "execution_count": null,
      "outputs": []
    },
    {
      "cell_type": "code",
      "source": [
        "!pip install pycryptodome --no-binary :all:\n"
      ],
      "metadata": {
        "colab": {
          "base_uri": "https://localhost:8080/"
        },
        "id": "utI49-au3sCL",
        "outputId": "7a9a89a0-a1df-4200-b022-3150bbe4ed0b"
      },
      "execution_count": null,
      "outputs": [
        {
          "output_type": "stream",
          "name": "stdout",
          "text": [
            "Requirement already satisfied: pycryptodome in /usr/local/lib/python3.10/dist-packages (3.20.0)\n"
          ]
        }
      ]
    },
    {
      "cell_type": "code",
      "source": [
        "!pip install fitz"
      ],
      "metadata": {
        "id": "9-ru597i4ZXl"
      },
      "execution_count": null,
      "outputs": []
    },
    {
      "cell_type": "markdown",
      "source": [
        "### Python Script for Merging Documents for each category"
      ],
      "metadata": {
        "id": "L-l26ETlwp1I"
      }
    },
    {
      "cell_type": "code",
      "execution_count": null,
      "metadata": {
        "id": "7nDTm-epDMEt"
      },
      "outputs": [],
      "source": [
        "def merge_documents_in_category(category_folder):\n",
        "    pdf_files = []\n",
        "    docx_files = []\n",
        "\n",
        "    # Iterate through files in the category folder\n",
        "    for filename in os.listdir(category_folder):\n",
        "        filepath = os.path.join(category_folder, filename)\n",
        "        if filename.endswith(\".pdf\"):\n",
        "            pdf_files.append(filepath)\n",
        "        elif filename.endswith(\".docx\"):\n",
        "            docx_files.append(filepath)\n",
        "\n",
        "    # Output file path for the merged document\n",
        "    output_file = f\"{category_folder}_merged.docx\"  # Or you can change the extension if you prefer PDF\n",
        "\n",
        "    # Merge documents\n",
        "    merge_documents(pdf_files, docx_files, output_file)\n",
        "\n",
        "def merge_documents(pdf_files, docx_files, output_file):\n",
        "    # Merge PDF files\n",
        "    merged_pdf_writer = PdfWriter()\n",
        "    for pdf_file in pdf_files:\n",
        "        with open(pdf_file, \"rb\") as f:\n",
        "            reader = PdfReader(f)\n",
        "            for page in reader.pages:\n",
        "                merged_pdf_writer.add_page(page)\n",
        "\n",
        "    with open(output_file, \"wb\") as f:\n",
        "        merged_pdf_writer.write(f)\n",
        "\n",
        "    # Merge DOCX files\n",
        "    merged_docx = Document()\n",
        "    for docx_file in docx_files:\n",
        "        doc = Document(docx_file)\n",
        "        for element in doc.element.body:\n",
        "            merged_docx.element.body.append(element)\n",
        "    merged_docx.save(output_file)\n",
        "\n",
        "if __name__ == \"__main__\":\n",
        "    # Path to the Documents folder containing category folders\n",
        "    documents_folder = \"/content/drive/MyDrive/Swahili_Corpus/Documents\"\n",
        "\n",
        "    # Iterate through each category folder\n",
        "    for category_folder in os.listdir(documents_folder):\n",
        "        category_folder_path = os.path.join(documents_folder, category_folder)\n",
        "        if os.path.isdir(category_folder_path):\n",
        "            merge_documents_in_category(category_folder_path)\n"
      ]
    },
    {
      "cell_type": "code",
      "source": [
        "!pip install docx2pdf"
      ],
      "metadata": {
        "colab": {
          "base_uri": "https://localhost:8080/"
        },
        "id": "ajkbvOOmOf7N",
        "outputId": "5e0042d3-e77c-4002-ed4f-bf91d6863ac6"
      },
      "execution_count": null,
      "outputs": [
        {
          "output_type": "stream",
          "name": "stdout",
          "text": [
            "Collecting docx2pdf\n",
            "  Downloading docx2pdf-0.1.8-py3-none-any.whl (6.7 kB)\n",
            "Requirement already satisfied: tqdm>=4.41.0 in /usr/local/lib/python3.10/dist-packages (from docx2pdf) (4.66.1)\n",
            "Installing collected packages: docx2pdf\n",
            "Successfully installed docx2pdf-0.1.8\n"
          ]
        }
      ]
    },
    {
      "cell_type": "code",
      "source": [
        "!pip install fpdf"
      ],
      "metadata": {
        "colab": {
          "base_uri": "https://localhost:8080/"
        },
        "id": "YRCKpaaWPdnd",
        "outputId": "6d8f2ea5-acc5-423f-d8bf-c3d9bfb54a93"
      },
      "execution_count": null,
      "outputs": [
        {
          "output_type": "stream",
          "name": "stdout",
          "text": [
            "Collecting fpdf\n",
            "  Downloading fpdf-1.7.2.tar.gz (39 kB)\n",
            "  Preparing metadata (setup.py) ... \u001b[?25l\u001b[?25hdone\n",
            "Building wheels for collected packages: fpdf\n",
            "  Building wheel for fpdf (setup.py) ... \u001b[?25l\u001b[?25hdone\n",
            "  Created wheel for fpdf: filename=fpdf-1.7.2-py2.py3-none-any.whl size=40703 sha256=dd3a4438566c310fed9d2137c25b0f2ac808633b941a57f20fc4e23e20341080\n",
            "  Stored in directory: /root/.cache/pip/wheels/f9/95/ba/f418094659025eb9611f17cbcaf2334236bf39a0c3453ea455\n",
            "Successfully built fpdf\n",
            "Installing collected packages: fpdf\n",
            "Successfully installed fpdf-1.7.2\n"
          ]
        }
      ]
    },
    {
      "cell_type": "code",
      "source": [
        "!pip install reportlab"
      ],
      "metadata": {
        "colab": {
          "base_uri": "https://localhost:8080/"
        },
        "id": "VGk--YkrEG1X",
        "outputId": "ffcc0c04-46bc-408f-a21c-431fdb8d1261"
      },
      "execution_count": null,
      "outputs": [
        {
          "output_type": "stream",
          "name": "stdout",
          "text": [
            "Collecting reportlab\n",
            "  Downloading reportlab-4.0.9-py3-none-any.whl (1.9 MB)\n",
            "\u001b[2K     \u001b[90m━━━━━━━━━━━━━━━━━━━━━━━━━━━━━━━━━━━━━━━━\u001b[0m \u001b[32m1.9/1.9 MB\u001b[0m \u001b[31m8.2 MB/s\u001b[0m eta \u001b[36m0:00:00\u001b[0m\n",
            "\u001b[?25hRequirement already satisfied: pillow>=9.0.0 in /usr/local/lib/python3.10/dist-packages (from reportlab) (9.4.0)\n",
            "Requirement already satisfied: chardet in /usr/local/lib/python3.10/dist-packages (from reportlab) (5.2.0)\n",
            "Installing collected packages: reportlab\n",
            "Successfully installed reportlab-4.0.9\n"
          ]
        }
      ]
    },
    {
      "cell_type": "code",
      "source": [
        "from reportlab.lib.pagesizes import letter\n",
        "from reportlab.platypus import SimpleDocTemplate, Paragraph\n",
        "from reportlab.lib.styles import getSampleStyleSheet"
      ],
      "metadata": {
        "id": "eYOf8aobEVgM"
      },
      "execution_count": null,
      "outputs": []
    },
    {
      "cell_type": "code",
      "source": [
        "from fpdf import FPDF\n",
        "\n",
        "class MyFPDF(FPDF):\n",
        "    def _escape(self, s):\n",
        "        return s\n",
        "\n",
        "def convert_docx_to_pdf(docx_path, pdf_path):\n",
        "    doc = Document(docx_path)\n",
        "    pdf = SimpleDocTemplate(pdf_path, pagesize=letter)\n",
        "    styles = getSampleStyleSheet()\n",
        "    story = []\n",
        "    for paragraph in doc.paragraphs:\n",
        "        story.append(Paragraph(paragraph.text, styles['Normal']))\n",
        "    pdf.build(story)\n",
        "\n",
        "def merge_documents(folder_path, output_file):\n",
        "    merger = PdfMerger()\n",
        "    for filename in os.listdir(folder_path):\n",
        "        if filename.endswith('.pdf'):\n",
        "            merger.append(os.path.join(folder_path, filename))\n",
        "        elif filename.endswith('.docx'):\n",
        "            docx_file = os.path.join(folder_path, filename)\n",
        "            temp_pdf_file = os.path.splitext(docx_file)[0] + '.pdf'\n",
        "            convert_docx_to_pdf(docx_file, temp_pdf_file)\n",
        "            merger.append(temp_pdf_file)\n",
        "            os.remove(temp_pdf_file)\n",
        "    merger.write(output_file)\n",
        "    merger.close()\n",
        "\n",
        "if __name__ == \"__main__\":\n",
        "    folder_path = \"/content/drive/MyDrive/Swahili_Corpus/Documents/Ulinzi\"\n",
        "    output_file = \"/content/drive/MyDrive/Swahili_Corpus/Merged_Documents/Ulinzi_Merged.pdf\"\n",
        "\n",
        "    merge_documents(folder_path, output_file)\n"
      ],
      "metadata": {
        "id": "zNAEDujDfk9x",
        "colab": {
          "base_uri": "https://localhost:8080/"
        },
        "outputId": "7b37a47a-403d-4013-858e-4c024912beae"
      },
      "execution_count": 46,
      "outputs": [
        {
          "output_type": "stream",
          "name": "stderr",
          "text": [
            "WARNING:PyPDF2.generic._data_structures:Multiple definitions in dictionary at byte 0x3d347 for key /Info\n",
            "WARNING:PyPDF2.generic._data_structures:Multiple definitions in dictionary at byte 0x3d353 for key /Info\n",
            "WARNING:PyPDF2.generic._data_structures:Multiple definitions in dictionary at byte 0x3d35f for key /Info\n",
            "WARNING:PyPDF2.generic._data_structures:Multiple definitions in dictionary at byte 0x1898ec for key /Info\n",
            "WARNING:PyPDF2.generic._data_structures:Multiple definitions in dictionary at byte 0x1898f9 for key /Info\n",
            "WARNING:PyPDF2.generic._data_structures:Multiple definitions in dictionary at byte 0x189906 for key /Info\n"
          ]
        }
      ]
    },
    {
      "cell_type": "markdown",
      "source": [],
      "metadata": {
        "id": "dh_XRGDpiOip"
      }
    }
  ]
}